{
 "cells": [
  {
   "cell_type": "markdown",
   "id": "29011708",
   "metadata": {},
   "source": [
    "# 1.0. Definição do Problema"
   ]
  },
  {
   "cell_type": "markdown",
   "id": "c1d2719e",
   "metadata": {},
   "source": [
    "## 1.1. Contexto de Negócio"
   ]
  },
  {
   "cell_type": "markdown",
   "id": "3e02a5c1",
   "metadata": {},
   "source": [
    "- **EMPRESA**:\n",
    "- **MODELO DE NEGÓCIO**: \n",
    "- **Problema de Negócio**: "
   ]
  },
  {
   "cell_type": "code",
   "execution_count": null,
   "id": "e10bc7d5",
   "metadata": {},
   "outputs": [],
   "source": []
  },
  {
   "cell_type": "code",
   "execution_count": null,
   "id": "b61cf1e7",
   "metadata": {},
   "outputs": [],
   "source": []
  },
  {
   "cell_type": "code",
   "execution_count": null,
   "id": "7041c9f1",
   "metadata": {},
   "outputs": [],
   "source": []
  },
  {
   "cell_type": "code",
   "execution_count": null,
   "id": "131984bb",
   "metadata": {},
   "outputs": [],
   "source": []
  },
  {
   "cell_type": "code",
   "execution_count": null,
   "id": "3f61d921",
   "metadata": {},
   "outputs": [],
   "source": []
  },
  {
   "cell_type": "code",
   "execution_count": null,
   "id": "8e11c04f",
   "metadata": {},
   "outputs": [],
   "source": []
  }
 ],
 "metadata": {
  "kernelspec": {
   "display_name": "Python 3 (ipykernel)",
   "language": "python",
   "name": "python3"
  },
  "language_info": {
   "codemirror_mode": {
    "name": "ipython",
    "version": 3
   },
   "file_extension": ".py",
   "mimetype": "text/x-python",
   "name": "python",
   "nbconvert_exporter": "python",
   "pygments_lexer": "ipython3",
   "version": "3.10.4"
  }
 },
 "nbformat": 4,
 "nbformat_minor": 5
}
