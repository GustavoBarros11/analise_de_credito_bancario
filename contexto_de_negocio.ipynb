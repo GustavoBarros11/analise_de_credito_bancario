{
 "cells": [
  {
   "cell_type": "markdown",
   "id": "29011708",
   "metadata": {},
   "source": [
    "# 1.0. Definição do Problema"
   ]
  },
  {
   "cell_type": "markdown",
   "id": "384e734f",
   "metadata": {},
   "source": [
    "- **EMPRESA**: Bilion Bank\n",
    "- **MODELO DE NEGÓCIO**: Banco digital, possui como produto *conta bancária digital* e *cartão de crédito*.\n",
    "- **PROBLEMA DE NEGÓCIO**:</br>\n",
    "    O Billion Bank é um banco digital brasileiro, fundado em 2021. Trabalha hoje com contas digitais, e cartões de crédito.\n",
    "\n",
    "    Quando um cliente solicita aumento de limite no cartão de crédito, o banco consulta uma empresa de crédito terceira, que retorna uma recomendação: \"negar\" ou \"conceder\". Essa resposta é repassada ao cliente.\n",
    "\n",
    "    Dado que a empresa de crédito precisa levantar maiores informações de histórico financeiro do cliente com terceiros, o retorno da recomendação ao banco leva até 5 dias úteis!\n",
    "\n",
    "    Tratando-se de um serviço, a cada solicitação de aumento de limite feita por um cliente, o banco tem um custo adicional de consulta. Visando reduzir este custo, em 2022, o banco passou a só aceitar novos pedidos de aumento de limite a cada 3 meses.\n",
    "\n",
    "    O banco viu um aumento leve do churn no primeiro semestre, que se acentuou mais no segundo, chegando a um ponto já preocupante. O time de CS fez contato com antigos clientes, e constatou que o principal motivo do churn foi a percepção de burocracia relacionada ao aumento nos limites.\n",
    "\n",
    "    Para reverter o cenário, o banco traçou um plano de ação com dois objetivos:\n",
    "    </br>**1 -** Desburocratizar o processo, permitindo que o cliente possa solicitar um novo limite uma vez por semana, tendo uma resposta instantânea.\n",
    "    </br>**2 -** Desativar as consultas de recomendação de aumento de limites feitas hoje com a empresa terceira, que são demoradas e custosas.\n",
    "\n",
    "    Para concretizar o plano, foi solicitado ao time de cientistas de dados, que com base no histórico de recomendações (\"negar\" ou \"conceder\") da empresa de crédito, aliado ao histórico financeiro dos clientes, desenvolvam um modelo de avaliação de aumento de limite de cartão de crédito dentro de casa.\n",
    "\n",
    "    O modelo de classificação, deve informar se o Billion Bank deve \"negar\" ou \"conceder\" o aumento no limite solicitado pelo cliente."
   ]
  },
  {
   "cell_type": "markdown",
   "id": "9d7ef31e",
   "metadata": {},
   "source": [
    "## 1.1. Motivação (Qual o contexto?)\n",
    "- A empresa deseja remover burocracias no processo de avaliação da solicitação de um cliente sobre o aumento de seu limite de crédito, ao realizar a avaliação localmente na empresa, utilizando o histórico financeiro de cada cliente, e entregando uma solução que seja de resposta automática, de baixo custo e alta escalabilidade."
   ]
  },
  {
   "cell_type": "markdown",
   "id": "c2b14ad5",
   "metadata": {},
   "source": [
    "## 1.2. Causa raíz do problema\n",
    "- O processo de avaliação atual é feito por uma empresa terceira que adiciona demora e custo ao processo, gerando uma maior burocracia para o cliente fazer sua solicitação e gasto excessivo pelo banco para cada nova solicitação feita pelo cliente, o que levou o banco adotar medidas mais restritivas para um cliente seu solicitar aumento de crédito, o que resultou diretamente em um aumento do volume de churn registrado por dois semestres consecutivos."
   ]
  },
  {
   "cell_type": "markdown",
   "id": "a6ad4726",
   "metadata": {
    "ExecuteTime": {
     "end_time": "2022-10-26T15:53:28.092222Z",
     "start_time": "2022-10-26T15:53:28.086861Z"
    }
   },
   "source": [
    "## 1.3. Quem é o dono do problema?"
   ]
  },
  {
   "cell_type": "markdown",
   "id": "dcc8f226",
   "metadata": {
    "ExecuteTime": {
     "end_time": "2022-10-26T15:57:33.560109Z",
     "start_time": "2022-10-26T15:57:33.554448Z"
    }
   },
   "source": [
    "- O boarding de stakeholders do Bilion bank."
   ]
  },
  {
   "cell_type": "markdown",
   "id": "bc8fe415",
   "metadata": {},
   "source": [
    "# 2.0. Planejamento da Solução"
   ]
  },
  {
   "cell_type": "markdown",
   "id": "bf301b34",
   "metadata": {},
   "source": [
    "## 2.1. Saída (produto final)"
   ]
  },
  {
   "cell_type": "markdown",
   "id": "253a8099",
   "metadata": {},
   "source": [
    "- **Produto Final**\n",
    "    - Modelo de machine learning de classificação, que deve informar se o Billion Bank deve \"negar\" ou \"conceder\" o aumento no limite solicitado pelo cliente.\n",
    "    - Dashboard 24/7 que simula a solicitação feita por um cliente, pedindo a ele que preencha um formulário com suas informações (fictícias), então o modelo de ML irá entregar o resultado da solicitação feita por este cliente fictício. O objetivo é o de validar a solução e mostrar sua aplicação na prática.\n",
    "- **Granularidade**\n",
    "    - O menor pedaço de informação é a coluna `id_cliente`. Os dados não possuem informações de data.\n",
    "- **Tipo do Problema**\n",
    "    - Problema de classficação binária.\n",
    "    - Modelos que podem ser empregados: LinearRegression ou KNN (baseline), Ridge ou Lasso, XGB ou LGBM, RandomForest e dentre outros.\n",
    "- **Formato da Entrega**\n",
    "    - Dashboard online"
   ]
  },
  {
   "cell_type": "markdown",
   "id": "8f7019e0",
   "metadata": {},
   "source": [
    "## 2.2. Processo (passo-a-passo)"
   ]
  },
  {
   "cell_type": "markdown",
   "id": "8376b8b6",
   "metadata": {},
   "source": [
    "1. Entendimento do problema e planejamento analítico dos passos para a construção da solução.\n",
    "2. Criar diretório local e repositório no Github para o projeto\n",
    "3"
   ]
  },
  {
   "cell_type": "markdown",
   "id": "23d5a7be",
   "metadata": {
    "ExecuteTime": {
     "end_time": "2022-10-26T16:36:58.790086Z",
     "start_time": "2022-10-26T16:36:58.785679Z"
    }
   },
   "source": [
    "### Ciclo 1 (Baseline/MVP)"
   ]
  },
  {
   "cell_type": "markdown",
   "id": "ba78c4dc",
   "metadata": {},
   "source": [
    "## 2.3. Entrada (fonte de dados)"
   ]
  },
  {
   "cell_type": "markdown",
   "id": "bfe74ad6",
   "metadata": {
    "ExecuteTime": {
     "end_time": "2022-10-26T16:10:09.297560Z",
     "start_time": "2022-10-26T16:10:09.291290Z"
    }
   },
   "source": [
    "- Base de dados contendo informações do histórico financeiro dos clientes da bilion bank que fizeram solicitações de aumento no limite do cartão de crédito, e sua respectiva reposta, se foi concedido ou negado.\n",
    "- Base de dados disponível no Kaggle: [link](https://www.kaggle.com/competitions/cdshackdays3)\n",
    "- A granularidade dos dados é por "
   ]
  },
  {
   "cell_type": "markdown",
   "id": "0aa1804d",
   "metadata": {},
   "source": [
    "# 3.0. Dicionário dos Dados"
   ]
  },
  {
   "cell_type": "markdown",
   "id": "513edf33",
   "metadata": {
    "ExecuteTime": {
     "end_time": "2022-10-26T16:26:25.311544Z",
     "start_time": "2022-10-26T16:26:25.296929Z"
    }
   },
   "source": [
    "Os títulos e dados das colunas são autoexplicativos, e esta é toda a informação que você tem disponível.\n",
    "\n",
    "Variable | Description\n",
    "--- | ---\n",
    "`id_cliente` | Id do cliente\n",
    "`idade` | Idade do cliente\n",
    "`saldo_atual` | Saldo atual do cliente\n",
    "`divida_atual` | Divida atual do cliente\n",
    "`renda_anual` | Renda anual do cliente\n",
    "`valor_em_investimentos` | Valor em investimentos do cliente\n",
    "`taxa_utilizacao_credito` | Taxa de utilizacão total do crédito pelo cliente\n",
    "`num_emprestimos` | Número de empréstimos feitos pelo cliente\n",
    "`num_contas_bancarias` | Número de contas bancárias que o cliente possue\n",
    "`num_cartoes_credito` | Número de cartões de crédito que o cliente possue\n",
    "`dias_atraso_dt_venc` | Dias de atraso após a data de vencimento do cartão\n",
    "`num_pgtos_atrasados` | Número de pagamentos atrasados\n",
    "`num_consultas_credito` | Número de consultas de crédito\n",
    "`taxa_juros` | Taxa de juros do cliente\n",
    "`investe_exterior` | Se o cliente investe no exterior ou não\n",
    "`pessoa_polit_exp` | Se o cliente é uma pessoa politicamente exposta\n",
    "`limite_adicional` | Variável resposta, que contém o resultado da solicitação feita pelo cliente, contendo os valores: **Conceder** ou **Negar**."
   ]
  },
  {
   "cell_type": "code",
   "execution_count": null,
   "id": "9404c35f",
   "metadata": {},
   "outputs": [],
   "source": []
  }
 ],
 "metadata": {
  "kernelspec": {
   "display_name": "Python 3 (ipykernel)",
   "language": "python",
   "name": "python3"
  },
  "language_info": {
   "codemirror_mode": {
    "name": "ipython",
    "version": 3
   },
   "file_extension": ".py",
   "mimetype": "text/x-python",
   "name": "python",
   "nbconvert_exporter": "python",
   "pygments_lexer": "ipython3",
   "version": "3.10.4"
  }
 },
 "nbformat": 4,
 "nbformat_minor": 5
}
